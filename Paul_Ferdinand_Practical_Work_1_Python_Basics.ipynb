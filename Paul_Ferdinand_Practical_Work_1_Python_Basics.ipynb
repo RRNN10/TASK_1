{
  "nbformat": 4,
  "nbformat_minor": 0,
  "metadata": {
    "colab": {
      "provenance": []
    },
    "kernelspec": {
      "name": "python3",
      "display_name": "Python 3"
    },
    "language_info": {
      "name": "python"
    }
  },
  "cells": [
    {
      "cell_type": "markdown",
      "source": [
        "#Practical Work #1: Python Basics"
      ],
      "metadata": {
        "id": "-p_bsOL-xXCG"
      }
    },
    {
      "cell_type": "markdown",
      "source": [
        "Your task will be to make a program that will help the school office assistant to get students performance indicators."
      ],
      "metadata": {
        "id": "On_2v5-zxUwA"
      }
    },
    {
      "cell_type": "markdown",
      "source": [
        "Information about a student that should be used:\n",
        "\n",
        "*   **Name** -> string\n",
        "*   **Grade** -> number (from 1 to 12)\n",
        "*   **Math** mark for the year -> number (from 1 to 10)\n",
        "*   **Science** mark for the year -> number (from 1 to 10)\n",
        "*   **History** mark for the year -> number (from 1 to 10)"
      ],
      "metadata": {
        "id": "Ywq-j9EiyR5y"
      }
    },
    {
      "cell_type": "markdown",
      "source": [
        "The School Assistan should have the certain metrics to make annual report:\n",
        "\n",
        "1.  Avarage mark amoung all students by all subjects\n",
        "2.  Avarage mark amoung all students by each subject\n",
        "3.  Avarage mark amoung all students of all subjects by each grade\n",
        "4.  Avarage mark amoung all students of each subject by each grade\n",
        "5.  The best student in the school based on all marks\n",
        "6.  The best student in the each grade based on all marks"
      ],
      "metadata": {
        "id": "3Htg9Qxm013z"
      }
    },
    {
      "cell_type": "markdown",
      "source": [
        "Available Data:\n",
        "\n",
        "Stident 1:\n",
        "*   David\n",
        "*   10\n",
        "*   8\n",
        "*   9\n",
        "*   3\n",
        "\n",
        "Stident 2:\n",
        "*   Alice\n",
        "*   10\n",
        "*   7\n",
        "*   4\n",
        "*   10\n",
        "\n",
        "Stident 3:\n",
        "*   Ben\n",
        "*   12\n",
        "*   9\n",
        "*   9\n",
        "*   7\n",
        "\n",
        "Stident 4:\n",
        "*   Kate\n",
        "*   12\n",
        "*   5\n",
        "*   5\n",
        "*   6"
      ],
      "metadata": {
        "id": "P1grcXTFy2i7"
      }
    },
    {
      "cell_type": "code",
      "execution_count": null,
      "metadata": {
        "id": "EneS5DbboQff"
      },
      "outputs": [],
      "source": [
        "students = []"
      ]
    },
    {
      "cell_type": "markdown",
      "source": [
        "Imagine that in school there are only 4 students and you need to get information of each of them.\n",
        "\n",
        "To do this: write a loop that will iterate 4 times and each iteration the code bellow will be executed"
      ],
      "metadata": {
        "id": "6Rez05lb4ZAz"
      }
    },
    {
      "cell_type": "markdown",
      "source": [
        "In order to put all the data of students, you will use Python build-in function **input()**\n",
        "\n",
        "input() - can take 1 parameter -> string that will be printed with input field\n",
        "\n",
        "in Input field type all the specific information that is asked from the available data"
      ],
      "metadata": {
        "id": "dHLBjnKs3RjN"
      }
    },
    {
      "cell_type": "code",
      "source": [
        "def get_student_data():\n",
        "  name = input(\"Enter student name: \")\n",
        "  grade = int(input(\"Enter student grade: \"))\n",
        "  math_mark = int(input(\"Enter student Math mark: \"))\n",
        "  science_mark = int(input(\"Enter student Science mark: \"))\n",
        "  history_mark = int(input(\"Enter student History mark: \"))\n",
        "\n",
        "  \"\"\"\n",
        "  TO DO:\n",
        "\n",
        "  output of function input() is string\n",
        "  for all number type data -> you need to convert it to the integer\n",
        "  to do this -> use build-in function int()\n",
        "\n",
        "  And also, check if\n",
        "  1 <= grade <= 12\n",
        "  1 <= all marks <= 10\n",
        "  \"\"\"\n",
        "\n",
        "  if 1 <= grade <= 12:\n",
        "    pass\n",
        "  else:\n",
        "\n",
        "\n",
        "\n",
        "  return {\n",
        "      \"name\":  \"\",\n",
        "      \"math_mark\": \"\",\n",
        "      \"science_mark\": \"\",\n",
        "      \"history_mark\": \"\",\n",
        "  }"
      ],
      "metadata": {
        "id": "yykLG70AyqbE",
        "colab": {
          "base_uri": "https://localhost:8080/",
          "height": 106
        },
        "outputId": "85c6c2e3-819f-40cf-8693-e6bd4309ee82"
      },
      "execution_count": null,
      "outputs": [
        {
          "output_type": "error",
          "ename": "IndentationError",
          "evalue": "expected an indented block after 'else' statement on line 22 (<ipython-input-2-0b1d08dd666e>, line 26)",
          "traceback": [
            "\u001b[0;36m  File \u001b[0;32m\"<ipython-input-2-0b1d08dd666e>\"\u001b[0;36m, line \u001b[0;32m26\u001b[0m\n\u001b[0;31m    return {\u001b[0m\n\u001b[0m    ^\u001b[0m\n\u001b[0;31mIndentationError\u001b[0m\u001b[0;31m:\u001b[0m expected an indented block after 'else' statement on line 22\n"
          ]
        }
      ]
    },
    {
      "cell_type": "markdown",
      "source": [
        "**Data Representation**\n",
        "\n",
        "\n"
      ],
      "metadata": {
        "id": "Krt5U-iuNDJ6"
      }
    },
    {
      "cell_type": "code",
      "source": [
        "students = [\n",
        "    {\"name\": \"David\", \"grade\": 10, \"math\": 8, \"science\": 9, \"history\": 3},\n",
        "    {\"name\": \"Alice\", \"grade\": 10, \"math\": 7, \"science\": 4, \"history\": 10},\n",
        "    {\"name\": \"Ben\", \"grade\": 12, \"math\": 9, \"science\": 9, \"history\": 7},\n",
        "    {\"name\": \"Kate\", \"grade\": 12, \"math\": 5, \"science\": 5, \"history\": 6},\n",
        "]"
      ],
      "metadata": {
        "id": "MRN2dvYFMxs4"
      },
      "execution_count": null,
      "outputs": []
    },
    {
      "cell_type": "code",
      "source": [
        "for i in range(4):\n",
        "  students.append(get_student_data())"
      ],
      "metadata": {
        "id": "ReWy-HYpAp1O"
      },
      "execution_count": null,
      "outputs": []
    },
    {
      "cell_type": "code",
      "source": [
        "total_mark = 0\n",
        "total_count = len(students)\n",
        "for student in students:\n",
        "  total_mark += student[\"math_mark\"] + student[\"science_mark\"]\n",
        "\n"
      ],
      "metadata": {
        "id": "K9SHh2PYFQ4h"
      },
      "execution_count": null,
      "outputs": []
    },
    {
      "cell_type": "markdown",
      "source": [
        "**Overall average mark**"
      ],
      "metadata": {
        "id": "AR7Em46bQ7Pu"
      }
    },
    {
      "cell_type": "code",
      "source": [
        "total_marks = 0\n",
        "total_subjects = 0\n",
        "\n",
        "for student in students:\n",
        "    total_marks += student[\"math\"] + student[\"science\"] + student[\"history\"]\n",
        "    total_subjects += 3  # Each student has marks for 3 subjects\n",
        "\n",
        "overall_avg = total_marks / total_subjects\n",
        "print(f\"Overall average mark: {overall_avg:.2f}\")"
      ],
      "metadata": {
        "id": "LeCifI_lP2bD"
      },
      "execution_count": null,
      "outputs": []
    },
    {
      "cell_type": "markdown",
      "source": [
        "**Average mark of all students in each subject**"
      ],
      "metadata": {
        "id": "tGjq_6fMT23G"
      }
    },
    {
      "cell_type": "code",
      "source": [
        "def avarage_mark_each_subject(students):\n",
        "    math_total = science_total = history_total = 0\n",
        "    count = len(students)\n",
        "\n",
        "    if count == 0:\n",
        "        print(\"Average per subject - Math: 0.00, Science: 0.00, History: 0.00\\n\")\n",
        "        return\n",
        "\n",
        "    for student in students:\n",
        "        math_total += student[\"math\"]\n",
        "        science_total += student[\"science\"]\n",
        "        history_total += student[\"history\"]\n",
        "\n",
        "    print(f\"Average per subject - Math: {math_total/count:.2f}, \"\n",
        "          f\"Science: {science_total/count:.2f}, \"\n",
        "          f\"History: {history_total/count:.2f}\\n\")\n",
        "\n",
        "avarage_mark_each_subject(students)"
      ],
      "metadata": {
        "id": "5OkvnblCTFUM"
      },
      "execution_count": null,
      "outputs": []
    },
    {
      "cell_type": "markdown",
      "source": [
        "Then, you need to calculate all the metrics"
      ],
      "metadata": {
        "id": "JFB9_rHA6c9H"
      }
    },
    {
      "cell_type": "markdown",
      "source": [
        "To make it look more professional we will create 6 functions:"
      ],
      "metadata": {
        "id": "b7Hs1Ea77DCS"
      }
    },
    {
      "cell_type": "code",
      "source": [
        "def avarage_mark_all_subjects(students):\n",
        "\n",
        "  pass"
      ],
      "metadata": {
        "id": "MLXqJUsV7Qjr"
      },
      "execution_count": null,
      "outputs": []
    },
    {
      "cell_type": "code",
      "source": [
        "def avarage_mark_each_subject(students):\n",
        "  pass"
      ],
      "metadata": {
        "id": "XbLnfMEM8d0R"
      },
      "execution_count": null,
      "outputs": []
    },
    {
      "cell_type": "code",
      "source": [
        "def avarage_mark_all_subjects_each_grade(students):\n",
        "  pass"
      ],
      "metadata": {
        "id": "Cc4swQO38nDs"
      },
      "execution_count": null,
      "outputs": []
    },
    {
      "cell_type": "markdown",
      "source": [
        "**Average all subjects per grade**"
      ],
      "metadata": {
        "id": "TCt_cG68ZvEE"
      }
    },
    {
      "source": [
        "def avarage_mark_all_subjects(students):\n",
        "\n",
        "  pass\n",
        "\n",
        "def avarage_mark_each_subject(students):\n",
        "  pass\n",
        "\n",
        "def avarage_mark_all_subjects_each_grade(students):\n",
        "  pass\n",
        "\n",
        "def avarage_mark_all_subjects_each_grade(students):\n",
        "    grade_totals = {}\n",
        "    for student in students:\n",
        "        grade = student[\"grade\"]\n",
        "        total_marks = student[\"math\"] + student[\"science\"] + student[\"history\"]\n",
        "        if grade not in grade_totals:\n",
        "            grade_totals[grade] = {\"total\": 0, \"count\": 0}\n",
        "        grade_totals[grade][\"total\"] += total_marks\n",
        "        grade_totals[grade][\"count\"] += 3\n",
        "    averages = {}\n",
        "    for grade, data in grade_totals.items():\n",
        "        averages[grade] = data[\"total\"] / data[\"count\"]\n",
        "    return averages\n",
        "\n",
        "\n",
        "def avarage_mark_each_subject_each_grade(students):\n",
        "\n",
        "  pass\n",
        "\n",
        "each_grade_all = avarage_mark_all_subjects_each_grade(students)\n",
        "print(\"Average all subjects per grade:\")\n",
        "for grade, avg in each_grade_all.items():\n",
        "    print(f\"Grade {grade}: {avg:.2f}\")\n",
        "each_subject_grade = avarage_mark_each_subject_each_grade(students)"
      ],
      "cell_type": "code",
      "metadata": {
        "id": "hpO9W446W24n"
      },
      "execution_count": null,
      "outputs": []
    },
    {
      "cell_type": "code",
      "source": [
        "def avarage_mark_each_subject_each_grade(students):\n",
        "  pass"
      ],
      "metadata": {
        "id": "V9Ahyk2k8xAG"
      },
      "execution_count": null,
      "outputs": []
    },
    {
      "cell_type": "markdown",
      "source": [
        "**Average per subject per grade**"
      ],
      "metadata": {
        "id": "2mWgK0dEaamg"
      }
    },
    {
      "source": [
        "def avarage_mark_all_subjects(students):\n",
        "\n",
        "  pass\n",
        "\n",
        "def avarage_mark_each_subject(students):\n",
        "  pass\n",
        "\n",
        "def avarage_mark_all_subjects_each_grade(students):\n",
        "  pass\n",
        "\n",
        "def avarage_mark_all_subjects_each_grade(students): # This function was defined twice\n",
        "    grade_totals = {}\n",
        "    for student in students:\n",
        "        grade = student[\"grade\"]\n",
        "        total_marks = student[\"math\"] + student[\"science\"] + student[\"history\"]\n",
        "        if grade not in grade_totals:\n",
        "            grade_totals[grade] = {\"total\": 0, \"count\": 0}\n",
        "        grade_totals[grade][\"total\"] += total_marks\n",
        "        grade_totals[grade][\"count\"] += 3\n",
        "    averages = {}\n",
        "    for grade, data in grade_totals.items():\n",
        "        averages[grade] = data[\"total\"] / data[\"count\"]\n",
        "    return averages\n",
        "\n",
        "\n",
        "def avarage_mark_each_subject_each_grade(students):\n",
        "\n",
        "    grade_subjects = {}\n",
        "    for student in students:\n",
        "        grade = student[\"grade\"]\n",
        "        if grade not in grade_subjects:\n",
        "            grade_subjects[grade] = {\n",
        "                \"math\": 0,\n",
        "                \"science\": 0,\n",
        "                \"history\": 0,\n",
        "                \"count\": 0\n",
        "            }\n",
        "        grade_subjects[grade][\"math\"] += student[\"math\"]\n",
        "        grade_subjects[grade][\"science\"] += student[\"science\"]\n",
        "        grade_subjects[grade][\"history\"] += student[\"history\"]\n",
        "        grade_subjects[grade][\"count\"] += 1\n",
        "    result = {}\n",
        "    for grade, data in grade_subjects.items():\n",
        "        count = data[\"count\"]\n",
        "        result[grade] = {\n",
        "            \"math\": data[\"math\"] / count,\n",
        "            \"science\": data[\"science\"] / count,\n",
        "            \"history\": data[\"history\"] / count\n",
        "        }\n",
        "    return result\n",
        "\n",
        "each_grade_all = avarage_mark_all_subjects_each_grade(students)\n",
        "print(\"Average all subjects per grade:\")\n",
        "for grade, avg in each_grade_all.items():\n",
        "    print(f\"Grade {grade}: {avg:.2f}\")\n",
        "each_subject_grade = avarage_mark_each_subject_each_grade(students) # Now this should be assigned a dictionary\n",
        "\n",
        "print(\"Average per subject per grade:\")\n",
        "for grade, subjects in each_subject_grade.items():\n",
        "    print(f\"Grade {grade}: Math={subjects['math']:.2f}, Science={subjects['science']:.2f}, History={subjects['history']:.2f}\")"
      ],
      "cell_type": "code",
      "metadata": {
        "colab": {
          "base_uri": "https://localhost:8080/"
        },
        "id": "sK7900s5aRZJ",
        "outputId": "1fea0a1f-f545-4701-88f6-882a8d907fc9"
      },
      "execution_count": null,
      "outputs": [
        {
          "output_type": "stream",
          "name": "stdout",
          "text": [
            "Average all subjects per grade:\n",
            "Average per subject per grade:\n"
          ]
        }
      ]
    },
    {
      "cell_type": "code",
      "source": [
        "def best_student_in_school(students):\n",
        "  pass"
      ],
      "metadata": {
        "id": "5kyB7duh83kt"
      },
      "execution_count": null,
      "outputs": []
    },
    {
      "cell_type": "markdown",
      "source": [
        "**Best student**"
      ],
      "metadata": {
        "id": "lYFgUdoObhR2"
      }
    },
    {
      "source": [
        "def best_student_in_school(students):\n",
        "    best_total = -1\n",
        "    best_student = None\n",
        "    for student in students:\n",
        "\n",
        "        current_total = student[\"math\"] + student[\"science\"] + student[\"history\"]\n",
        "        if current_total > best_total:\n",
        "            best_total = current_total\n",
        "            best_student = student\n",
        "    return best_student[\"name\"] if best_student else None\n",
        "\n",
        "best_school = best_student_in_school(students)\n",
        "print(\"Best student in school:\", best_school)"
      ],
      "cell_type": "code",
      "metadata": {
        "colab": {
          "base_uri": "https://localhost:8080/"
        },
        "id": "4IdOlV8dbHw7",
        "outputId": "7c0e3f6a-1d50-4bda-9726-2456e1e3b18f"
      },
      "execution_count": null,
      "outputs": [
        {
          "output_type": "stream",
          "name": "stdout",
          "text": [
            "Best student in school: None\n"
          ]
        }
      ]
    },
    {
      "cell_type": "code",
      "source": [
        "def best_student_by_each_grade(students):\n",
        "  pass"
      ],
      "metadata": {
        "id": "dpPVgFbh9CzL"
      },
      "execution_count": null,
      "outputs": []
    },
    {
      "cell_type": "markdown",
      "source": [
        "**Best student per grade**"
      ],
      "metadata": {
        "id": "X_qkfiWMcQwn"
      }
    },
    {
      "source": [
        "def best_student_by_each_grade(students):\n",
        "    grade_students = {}\n",
        "    for student in students:\n",
        "        grade = student[\"grade\"]\n",
        "        if grade not in grade_students:\n",
        "            grade_students[grade] = []\n",
        "        grade_students[grade].append(student)\n",
        "    best_students = {}\n",
        "    for grade, students_in_grade in grade_students.items():\n",
        "        best_total = -1\n",
        "        best = None\n",
        "        for student in students_in_grade:\n",
        "\n",
        "            total = student[\"math\"] + student[\"science\"] + student[\"history\"]\n",
        "            if total > best_total:\n",
        "                best_total = total\n",
        "                best = student\n",
        "        best_students[grade] = best[\"name\"] if best else None\n",
        "    return best_students\n",
        "\n",
        "best_grade = best_student_by_each_grade(students)\n",
        "print(\"Best student per grade:\")\n",
        "for grade, name in best_grade.items():\n",
        "    print(f\"Grade {grade}: {name}\")"
      ],
      "cell_type": "code",
      "metadata": {
        "colab": {
          "base_uri": "https://localhost:8080/"
        },
        "id": "mmPae4Tzb5gS",
        "outputId": "b113b2b5-9fef-4fec-b7df-f8482123a65a"
      },
      "execution_count": null,
      "outputs": [
        {
          "output_type": "stream",
          "name": "stdout",
          "text": [
            "Best student per grade:\n"
          ]
        }
      ]
    },
    {
      "cell_type": "markdown",
      "source": [
        "Run all functions to get the results"
      ],
      "metadata": {
        "id": "HWRBeCZr9JSk"
      }
    }
  ]
}